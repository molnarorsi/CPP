{
  "nbformat": 4,
  "nbformat_minor": 0,
  "metadata": {
    "hide_input": false,
    "kernelspec": {
      "display_name": "Python 3",
      "language": "python",
      "name": "python3"
    },
    "language_info": {
      "codemirror_mode": {
        "name": "ipython",
        "version": 3
      },
      "file_extension": ".py",
      "mimetype": "text/x-python",
      "name": "python",
      "nbconvert_exporter": "python",
      "pygments_lexer": "ipython3",
      "version": "3.7.1"
    },
    "colab": {
      "name": "apriori.ipynb",
      "provenance": []
    }
  },
  "cells": [
    {
      "cell_type": "markdown",
      "metadata": {
        "id": "uXnfck1X5fzI"
      },
      "source": [
        "# Gyakori elemhalmazok előállítása\n",
        "\n",
        "\n",
        "\n",
        "----\n"
      ]
    },
    {
      "cell_type": "markdown",
      "metadata": {
        "id": "pfChBnUs5fzJ"
      },
      "source": [
        "A gyakori elemhalmazok keresése elvileg az elemhalmazháló bejárásaként is tekinthető. A bejárás komplexitása exponenciális."
      ]
    },
    {
      "cell_type": "markdown",
      "metadata": {
        "id": "UjPLDJjv5fzK"
      },
      "source": [
        "## Apriori-elv\n",
        "\n",
        "\n",
        "Ha egy elemhalmaz gyakori, akkor ezen elemhalmaz összes részhalmaza is gyakori.\n",
        "Az apriori-elv alkalmazásával a részhalmazok exponenciális keresési tere csökkenthető. "
      ]
    },
    {
      "cell_type": "markdown",
      "metadata": {
        "id": "uQTugELQ5fzL"
      },
      "source": [
        "## Apriori algoritmus\n",
        "\n",
        "\n",
        "A laborgyakorlatban az apriori algoritmus Python [implmentációját](https://pypi.org/project/apyori/) próbáljuk ki. \n",
        "\n",
        "Az Apriori algoritmus a legismertebb gyakori elemhalmaz keresésére alkalmas módszer. Szélességi bejárást valósít meg: az üres halmazból kiindulva szintenként halad előre a nagyobb méretű gyakori elemhalmazok meghatározásához. Minden iterációban az eggyel nagyobb méretű elemhalmazokkal foglalkozik, így az iterációk száma legfeljebb eggyel több, mint a legnagyobb gyakori elemhalmaz mérete."
      ]
    },
    {
      "cell_type": "code",
      "source": [
        "!git clone https://github.com/IK2023-szt/ik2023-lab05-06-molnarorsi"
      ],
      "metadata": {
        "id": "ChR5JoTWGku-",
        "outputId": "4becb49c-1bca-4b08-fab1-15739c746659",
        "colab": {
          "base_uri": "https://localhost:8080/"
        }
      },
      "execution_count": 11,
      "outputs": [
        {
          "output_type": "stream",
          "name": "stdout",
          "text": [
            "Cloning into 'ik2023-lab05-06-molnarorsi'...\n",
            "fatal: could not read Username for 'https://github.com': No such device or address\n"
          ]
        }
      ]
    },
    {
      "cell_type": "code",
      "metadata": {
        "id": "rWoO-2cQ5oHX",
        "colab": {
          "base_uri": "https://localhost:8080/"
        },
        "outputId": "003a5bf1-ab38-49e8-ff4c-5443760c5a5c"
      },
      "source": [
        "!pip install apyori"
      ],
      "execution_count": 2,
      "outputs": [
        {
          "output_type": "stream",
          "name": "stdout",
          "text": [
            "Looking in indexes: https://pypi.org/simple, https://us-python.pkg.dev/colab-wheels/public/simple/\n",
            "Requirement already satisfied: apyori in /usr/local/lib/python3.9/dist-packages (1.1.2)\n"
          ]
        }
      ]
    },
    {
      "cell_type": "code",
      "metadata": {
        "id": "GuaIeTgs5zVs",
        "colab": {
          "base_uri": "https://localhost:8080/",
          "height": 56
        },
        "outputId": "15c281c8-1a18-4807-a730-d6fa9f9abc45"
      },
      "source": [
        "from google.colab import files\n",
        "files.upload()"
      ],
      "execution_count": 12,
      "outputs": [
        {
          "output_type": "display_data",
          "data": {
            "text/plain": [
              "<IPython.core.display.HTML object>"
            ],
            "text/html": [
              "\n",
              "     <input type=\"file\" id=\"files-cddf7e75-6d89-4626-ab54-79dced98db9c\" name=\"files[]\" multiple disabled\n",
              "        style=\"border:none\" />\n",
              "     <output id=\"result-cddf7e75-6d89-4626-ab54-79dced98db9c\">\n",
              "      Upload widget is only available when the cell has been executed in the\n",
              "      current browser session. Please rerun this cell to enable.\n",
              "      </output>\n",
              "      <script>// Copyright 2017 Google LLC\n",
              "//\n",
              "// Licensed under the Apache License, Version 2.0 (the \"License\");\n",
              "// you may not use this file except in compliance with the License.\n",
              "// You may obtain a copy of the License at\n",
              "//\n",
              "//      http://www.apache.org/licenses/LICENSE-2.0\n",
              "//\n",
              "// Unless required by applicable law or agreed to in writing, software\n",
              "// distributed under the License is distributed on an \"AS IS\" BASIS,\n",
              "// WITHOUT WARRANTIES OR CONDITIONS OF ANY KIND, either express or implied.\n",
              "// See the License for the specific language governing permissions and\n",
              "// limitations under the License.\n",
              "\n",
              "/**\n",
              " * @fileoverview Helpers for google.colab Python module.\n",
              " */\n",
              "(function(scope) {\n",
              "function span(text, styleAttributes = {}) {\n",
              "  const element = document.createElement('span');\n",
              "  element.textContent = text;\n",
              "  for (const key of Object.keys(styleAttributes)) {\n",
              "    element.style[key] = styleAttributes[key];\n",
              "  }\n",
              "  return element;\n",
              "}\n",
              "\n",
              "// Max number of bytes which will be uploaded at a time.\n",
              "const MAX_PAYLOAD_SIZE = 100 * 1024;\n",
              "\n",
              "function _uploadFiles(inputId, outputId) {\n",
              "  const steps = uploadFilesStep(inputId, outputId);\n",
              "  const outputElement = document.getElementById(outputId);\n",
              "  // Cache steps on the outputElement to make it available for the next call\n",
              "  // to uploadFilesContinue from Python.\n",
              "  outputElement.steps = steps;\n",
              "\n",
              "  return _uploadFilesContinue(outputId);\n",
              "}\n",
              "\n",
              "// This is roughly an async generator (not supported in the browser yet),\n",
              "// where there are multiple asynchronous steps and the Python side is going\n",
              "// to poll for completion of each step.\n",
              "// This uses a Promise to block the python side on completion of each step,\n",
              "// then passes the result of the previous step as the input to the next step.\n",
              "function _uploadFilesContinue(outputId) {\n",
              "  const outputElement = document.getElementById(outputId);\n",
              "  const steps = outputElement.steps;\n",
              "\n",
              "  const next = steps.next(outputElement.lastPromiseValue);\n",
              "  return Promise.resolve(next.value.promise).then((value) => {\n",
              "    // Cache the last promise value to make it available to the next\n",
              "    // step of the generator.\n",
              "    outputElement.lastPromiseValue = value;\n",
              "    return next.value.response;\n",
              "  });\n",
              "}\n",
              "\n",
              "/**\n",
              " * Generator function which is called between each async step of the upload\n",
              " * process.\n",
              " * @param {string} inputId Element ID of the input file picker element.\n",
              " * @param {string} outputId Element ID of the output display.\n",
              " * @return {!Iterable<!Object>} Iterable of next steps.\n",
              " */\n",
              "function* uploadFilesStep(inputId, outputId) {\n",
              "  const inputElement = document.getElementById(inputId);\n",
              "  inputElement.disabled = false;\n",
              "\n",
              "  const outputElement = document.getElementById(outputId);\n",
              "  outputElement.innerHTML = '';\n",
              "\n",
              "  const pickedPromise = new Promise((resolve) => {\n",
              "    inputElement.addEventListener('change', (e) => {\n",
              "      resolve(e.target.files);\n",
              "    });\n",
              "  });\n",
              "\n",
              "  const cancel = document.createElement('button');\n",
              "  inputElement.parentElement.appendChild(cancel);\n",
              "  cancel.textContent = 'Cancel upload';\n",
              "  const cancelPromise = new Promise((resolve) => {\n",
              "    cancel.onclick = () => {\n",
              "      resolve(null);\n",
              "    };\n",
              "  });\n",
              "\n",
              "  // Wait for the user to pick the files.\n",
              "  const files = yield {\n",
              "    promise: Promise.race([pickedPromise, cancelPromise]),\n",
              "    response: {\n",
              "      action: 'starting',\n",
              "    }\n",
              "  };\n",
              "\n",
              "  cancel.remove();\n",
              "\n",
              "  // Disable the input element since further picks are not allowed.\n",
              "  inputElement.disabled = true;\n",
              "\n",
              "  if (!files) {\n",
              "    return {\n",
              "      response: {\n",
              "        action: 'complete',\n",
              "      }\n",
              "    };\n",
              "  }\n",
              "\n",
              "  for (const file of files) {\n",
              "    const li = document.createElement('li');\n",
              "    li.append(span(file.name, {fontWeight: 'bold'}));\n",
              "    li.append(span(\n",
              "        `(${file.type || 'n/a'}) - ${file.size} bytes, ` +\n",
              "        `last modified: ${\n",
              "            file.lastModifiedDate ? file.lastModifiedDate.toLocaleDateString() :\n",
              "                                    'n/a'} - `));\n",
              "    const percent = span('0% done');\n",
              "    li.appendChild(percent);\n",
              "\n",
              "    outputElement.appendChild(li);\n",
              "\n",
              "    const fileDataPromise = new Promise((resolve) => {\n",
              "      const reader = new FileReader();\n",
              "      reader.onload = (e) => {\n",
              "        resolve(e.target.result);\n",
              "      };\n",
              "      reader.readAsArrayBuffer(file);\n",
              "    });\n",
              "    // Wait for the data to be ready.\n",
              "    let fileData = yield {\n",
              "      promise: fileDataPromise,\n",
              "      response: {\n",
              "        action: 'continue',\n",
              "      }\n",
              "    };\n",
              "\n",
              "    // Use a chunked sending to avoid message size limits. See b/62115660.\n",
              "    let position = 0;\n",
              "    do {\n",
              "      const length = Math.min(fileData.byteLength - position, MAX_PAYLOAD_SIZE);\n",
              "      const chunk = new Uint8Array(fileData, position, length);\n",
              "      position += length;\n",
              "\n",
              "      const base64 = btoa(String.fromCharCode.apply(null, chunk));\n",
              "      yield {\n",
              "        response: {\n",
              "          action: 'append',\n",
              "          file: file.name,\n",
              "          data: base64,\n",
              "        },\n",
              "      };\n",
              "\n",
              "      let percentDone = fileData.byteLength === 0 ?\n",
              "          100 :\n",
              "          Math.round((position / fileData.byteLength) * 100);\n",
              "      percent.textContent = `${percentDone}% done`;\n",
              "\n",
              "    } while (position < fileData.byteLength);\n",
              "  }\n",
              "\n",
              "  // All done.\n",
              "  yield {\n",
              "    response: {\n",
              "      action: 'complete',\n",
              "    }\n",
              "  };\n",
              "}\n",
              "\n",
              "scope.google = scope.google || {};\n",
              "scope.google.colab = scope.google.colab || {};\n",
              "scope.google.colab._files = {\n",
              "  _uploadFiles,\n",
              "  _uploadFilesContinue,\n",
              "};\n",
              "})(self);\n",
              "</script> "
            ]
          },
          "metadata": {}
        },
        {
          "output_type": "execute_result",
          "data": {
            "text/plain": [
              "{}"
            ]
          },
          "metadata": {},
          "execution_count": 12
        }
      ]
    },
    {
      "cell_type": "markdown",
      "metadata": {
        "id": "oOwbVxzU5fzL"
      },
      "source": [
        "Importáljuk a könyvtárakat (az apriori az apyori-ból is). "
      ]
    },
    {
      "cell_type": "code",
      "metadata": {
        "id": "UDZBmMtj5fzM"
      },
      "source": [
        "import numpy as np  \n",
        "import matplotlib.pyplot as plt  \n",
        "import pandas as pd  \n",
        "from apyori import apriori "
      ],
      "execution_count": 4,
      "outputs": []
    },
    {
      "cell_type": "markdown",
      "metadata": {
        "id": "Xn1eTgD-5fzQ"
      },
      "source": [
        "Olvassuk be a *store_data_apriori.csv* állományt."
      ]
    },
    {
      "cell_type": "code",
      "metadata": {
        "id": "r7ROUpX95fzR",
        "outputId": "575d7a56-90f6-479e-b842-043a11de57db",
        "colab": {
          "base_uri": "https://localhost:8080/"
        }
      },
      "source": [
        "url = 'https://raw.githubusercontent.com/IK2023-szt/ik2023-lab05-06-molnarorsi/main/store_data_apriori.csv?token=GHSAT0AAAAAACAS7VEY52Y57OUIA5J5BU72ZBAZSAQ'\n",
        "store_data = pd.read_csv(url) \n",
        "print(store_data)"
      ],
      "execution_count": 15,
      "outputs": [
        {
          "output_type": "stream",
          "name": "stdout",
          "text": [
            "              shrimp            almonds      avocado    vegetables mix  \\\n",
            "0            burgers          meatballs         eggs               NaN   \n",
            "1            chutney                NaN          NaN               NaN   \n",
            "2             turkey            avocado          NaN               NaN   \n",
            "3      mineral water               milk   energy bar  whole wheat rice   \n",
            "4     low fat yogurt                NaN          NaN               NaN   \n",
            "...              ...                ...          ...               ...   \n",
            "7495          butter         light mayo  fresh bread               NaN   \n",
            "7496         burgers  frozen vegetables         eggs      french fries   \n",
            "7497         chicken                NaN          NaN               NaN   \n",
            "7498        escalope          green tea          NaN               NaN   \n",
            "7499            eggs    frozen smoothie  yogurt cake    low fat yogurt   \n",
            "\n",
            "     green grapes whole weat flour yams cottage cheese energy drink  \\\n",
            "0             NaN              NaN  NaN            NaN          NaN   \n",
            "1             NaN              NaN  NaN            NaN          NaN   \n",
            "2             NaN              NaN  NaN            NaN          NaN   \n",
            "3       green tea              NaN  NaN            NaN          NaN   \n",
            "4             NaN              NaN  NaN            NaN          NaN   \n",
            "...           ...              ...  ...            ...          ...   \n",
            "7495          NaN              NaN  NaN            NaN          NaN   \n",
            "7496    magazines        green tea  NaN            NaN          NaN   \n",
            "7497          NaN              NaN  NaN            NaN          NaN   \n",
            "7498          NaN              NaN  NaN            NaN          NaN   \n",
            "7499          NaN              NaN  NaN            NaN          NaN   \n",
            "\n",
            "     tomato juice low fat yogurt green tea honey salad mineral water salmon  \\\n",
            "0             NaN            NaN       NaN   NaN   NaN           NaN    NaN   \n",
            "1             NaN            NaN       NaN   NaN   NaN           NaN    NaN   \n",
            "2             NaN            NaN       NaN   NaN   NaN           NaN    NaN   \n",
            "3             NaN            NaN       NaN   NaN   NaN           NaN    NaN   \n",
            "4             NaN            NaN       NaN   NaN   NaN           NaN    NaN   \n",
            "...           ...            ...       ...   ...   ...           ...    ...   \n",
            "7495          NaN            NaN       NaN   NaN   NaN           NaN    NaN   \n",
            "7496          NaN            NaN       NaN   NaN   NaN           NaN    NaN   \n",
            "7497          NaN            NaN       NaN   NaN   NaN           NaN    NaN   \n",
            "7498          NaN            NaN       NaN   NaN   NaN           NaN    NaN   \n",
            "7499          NaN            NaN       NaN   NaN   NaN           NaN    NaN   \n",
            "\n",
            "     antioxydant juice frozen smoothie spinach  olive oil  \n",
            "0                  NaN             NaN     NaN        NaN  \n",
            "1                  NaN             NaN     NaN        NaN  \n",
            "2                  NaN             NaN     NaN        NaN  \n",
            "3                  NaN             NaN     NaN        NaN  \n",
            "4                  NaN             NaN     NaN        NaN  \n",
            "...                ...             ...     ...        ...  \n",
            "7495               NaN             NaN     NaN        NaN  \n",
            "7496               NaN             NaN     NaN        NaN  \n",
            "7497               NaN             NaN     NaN        NaN  \n",
            "7498               NaN             NaN     NaN        NaN  \n",
            "7499               NaN             NaN     NaN        NaN  \n",
            "\n",
            "[7500 rows x 20 columns]\n"
          ]
        }
      ]
    },
    {
      "cell_type": "markdown",
      "metadata": {
        "id": "R3u3gVtd5fzT"
      },
      "source": [
        "Hány tranzakciót tartalmaz a fájl?"
      ]
    },
    {
      "cell_type": "code",
      "metadata": {
        "id": "Qaqv-9ub5fzU",
        "outputId": "3d1f2d54-756b-44b1-a055-32bedbf6ea36",
        "colab": {
          "base_uri": "https://localhost:8080/"
        }
      },
      "source": [
        "num_transactions = store_data.shape[0]\n",
        "print(\"Nr. of transactions is: \", num_transactions)"
      ],
      "execution_count": 23,
      "outputs": [
        {
          "output_type": "stream",
          "name": "stdout",
          "text": [
            "Nr. of transactions is:  7500\n"
          ]
        }
      ]
    },
    {
      "cell_type": "markdown",
      "metadata": {
        "id": "_pLjsPZK5fzW"
      },
      "source": [
        "Melyik a leghosszabb tranzakció (hány elemű)?"
      ]
    },
    {
      "cell_type": "code",
      "metadata": {
        "id": "SOcDyD4H5fzX",
        "outputId": "b8808001-a929-4151-8cab-1750a6a7bfad",
        "colab": {
          "base_uri": "https://localhost:8080/"
        }
      },
      "source": [
        "lengths = store_data.apply(lambda row: len(row) - row.isna().sum(), axis = 1)\n",
        "max_index = lengths.idxmax()\n",
        "max_length = lengths[max_index]\n",
        "\n",
        "print(f\"The longest transaction has {max_length} elements.\")"
      ],
      "execution_count": 24,
      "outputs": [
        {
          "output_type": "stream",
          "name": "stdout",
          "text": [
            "The longest transaction has 19 elements.\n"
          ]
        }
      ]
    },
    {
      "cell_type": "markdown",
      "metadata": {
        "id": "6zzQKpW_5fzb"
      },
      "source": [
        "Mi az átlag tranzakció hossza (általában hány terméket vásárolnak)?"
      ]
    },
    {
      "cell_type": "code",
      "metadata": {
        "id": "daRNQ7CG5fzb",
        "outputId": "9da46645-2547-4ffe-cebd-5dc1363c3d38",
        "colab": {
          "base_uri": "https://localhost:8080/",
          "height": 596
        }
      },
      "source": [
        "avg_transaction_length = len(store_data)/store_data['Transaction'].nunique()\n",
        "print(\"Az átlagos tranzakció hossza: \", avg_transaction_length)"
      ],
      "execution_count": 26,
      "outputs": [
        {
          "output_type": "error",
          "ename": "KeyError",
          "evalue": "ignored",
          "traceback": [
            "\u001b[0;31m---------------------------------------------------------------------------\u001b[0m",
            "\u001b[0;31mKeyError\u001b[0m                                  Traceback (most recent call last)",
            "\u001b[0;32m/usr/local/lib/python3.9/dist-packages/pandas/core/indexes/base.py\u001b[0m in \u001b[0;36mget_loc\u001b[0;34m(self, key, method, tolerance)\u001b[0m\n\u001b[1;32m   3628\u001b[0m             \u001b[0;32mtry\u001b[0m\u001b[0;34m:\u001b[0m\u001b[0;34m\u001b[0m\u001b[0;34m\u001b[0m\u001b[0m\n\u001b[0;32m-> 3629\u001b[0;31m                 \u001b[0;32mreturn\u001b[0m \u001b[0mself\u001b[0m\u001b[0;34m.\u001b[0m\u001b[0m_engine\u001b[0m\u001b[0;34m.\u001b[0m\u001b[0mget_loc\u001b[0m\u001b[0;34m(\u001b[0m\u001b[0mcasted_key\u001b[0m\u001b[0;34m)\u001b[0m\u001b[0;34m\u001b[0m\u001b[0;34m\u001b[0m\u001b[0m\n\u001b[0m\u001b[1;32m   3630\u001b[0m             \u001b[0;32mexcept\u001b[0m \u001b[0mKeyError\u001b[0m \u001b[0;32mas\u001b[0m \u001b[0merr\u001b[0m\u001b[0;34m:\u001b[0m\u001b[0;34m\u001b[0m\u001b[0;34m\u001b[0m\u001b[0m\n",
            "\u001b[0;32m/usr/local/lib/python3.9/dist-packages/pandas/_libs/index.pyx\u001b[0m in \u001b[0;36mpandas._libs.index.IndexEngine.get_loc\u001b[0;34m()\u001b[0m\n",
            "\u001b[0;32m/usr/local/lib/python3.9/dist-packages/pandas/_libs/index.pyx\u001b[0m in \u001b[0;36mpandas._libs.index.IndexEngine.get_loc\u001b[0;34m()\u001b[0m\n",
            "\u001b[0;32mpandas/_libs/hashtable_class_helper.pxi\u001b[0m in \u001b[0;36mpandas._libs.hashtable.PyObjectHashTable.get_item\u001b[0;34m()\u001b[0m\n",
            "\u001b[0;32mpandas/_libs/hashtable_class_helper.pxi\u001b[0m in \u001b[0;36mpandas._libs.hashtable.PyObjectHashTable.get_item\u001b[0;34m()\u001b[0m\n",
            "\u001b[0;31mKeyError\u001b[0m: 'Transaction'",
            "\nThe above exception was the direct cause of the following exception:\n",
            "\u001b[0;31mKeyError\u001b[0m                                  Traceback (most recent call last)",
            "\u001b[0;32m<ipython-input-26-5dbd3aa51a86>\u001b[0m in \u001b[0;36m<module>\u001b[0;34m\u001b[0m\n\u001b[0;32m----> 1\u001b[0;31m \u001b[0mavg_transaction_length\u001b[0m \u001b[0;34m=\u001b[0m \u001b[0mlen\u001b[0m\u001b[0;34m(\u001b[0m\u001b[0mstore_data\u001b[0m\u001b[0;34m)\u001b[0m\u001b[0;34m/\u001b[0m\u001b[0mstore_data\u001b[0m\u001b[0;34m[\u001b[0m\u001b[0;34m'Transaction'\u001b[0m\u001b[0;34m]\u001b[0m\u001b[0;34m.\u001b[0m\u001b[0mnunique\u001b[0m\u001b[0;34m(\u001b[0m\u001b[0;34m)\u001b[0m\u001b[0;34m\u001b[0m\u001b[0;34m\u001b[0m\u001b[0m\n\u001b[0m\u001b[1;32m      2\u001b[0m \u001b[0mprint\u001b[0m\u001b[0;34m(\u001b[0m\u001b[0;34m\"Az átlagos tranzakció hossza: \"\u001b[0m\u001b[0;34m,\u001b[0m \u001b[0mavg_transaction_length\u001b[0m\u001b[0;34m)\u001b[0m\u001b[0;34m\u001b[0m\u001b[0;34m\u001b[0m\u001b[0m\n",
            "\u001b[0;32m/usr/local/lib/python3.9/dist-packages/pandas/core/frame.py\u001b[0m in \u001b[0;36m__getitem__\u001b[0;34m(self, key)\u001b[0m\n\u001b[1;32m   3503\u001b[0m             \u001b[0;32mif\u001b[0m \u001b[0mself\u001b[0m\u001b[0;34m.\u001b[0m\u001b[0mcolumns\u001b[0m\u001b[0;34m.\u001b[0m\u001b[0mnlevels\u001b[0m \u001b[0;34m>\u001b[0m \u001b[0;36m1\u001b[0m\u001b[0;34m:\u001b[0m\u001b[0;34m\u001b[0m\u001b[0;34m\u001b[0m\u001b[0m\n\u001b[1;32m   3504\u001b[0m                 \u001b[0;32mreturn\u001b[0m \u001b[0mself\u001b[0m\u001b[0;34m.\u001b[0m\u001b[0m_getitem_multilevel\u001b[0m\u001b[0;34m(\u001b[0m\u001b[0mkey\u001b[0m\u001b[0;34m)\u001b[0m\u001b[0;34m\u001b[0m\u001b[0;34m\u001b[0m\u001b[0m\n\u001b[0;32m-> 3505\u001b[0;31m             \u001b[0mindexer\u001b[0m \u001b[0;34m=\u001b[0m \u001b[0mself\u001b[0m\u001b[0;34m.\u001b[0m\u001b[0mcolumns\u001b[0m\u001b[0;34m.\u001b[0m\u001b[0mget_loc\u001b[0m\u001b[0;34m(\u001b[0m\u001b[0mkey\u001b[0m\u001b[0;34m)\u001b[0m\u001b[0;34m\u001b[0m\u001b[0;34m\u001b[0m\u001b[0m\n\u001b[0m\u001b[1;32m   3506\u001b[0m             \u001b[0;32mif\u001b[0m \u001b[0mis_integer\u001b[0m\u001b[0;34m(\u001b[0m\u001b[0mindexer\u001b[0m\u001b[0;34m)\u001b[0m\u001b[0;34m:\u001b[0m\u001b[0;34m\u001b[0m\u001b[0;34m\u001b[0m\u001b[0m\n\u001b[1;32m   3507\u001b[0m                 \u001b[0mindexer\u001b[0m \u001b[0;34m=\u001b[0m \u001b[0;34m[\u001b[0m\u001b[0mindexer\u001b[0m\u001b[0;34m]\u001b[0m\u001b[0;34m\u001b[0m\u001b[0;34m\u001b[0m\u001b[0m\n",
            "\u001b[0;32m/usr/local/lib/python3.9/dist-packages/pandas/core/indexes/base.py\u001b[0m in \u001b[0;36mget_loc\u001b[0;34m(self, key, method, tolerance)\u001b[0m\n\u001b[1;32m   3629\u001b[0m                 \u001b[0;32mreturn\u001b[0m \u001b[0mself\u001b[0m\u001b[0;34m.\u001b[0m\u001b[0m_engine\u001b[0m\u001b[0;34m.\u001b[0m\u001b[0mget_loc\u001b[0m\u001b[0;34m(\u001b[0m\u001b[0mcasted_key\u001b[0m\u001b[0;34m)\u001b[0m\u001b[0;34m\u001b[0m\u001b[0;34m\u001b[0m\u001b[0m\n\u001b[1;32m   3630\u001b[0m             \u001b[0;32mexcept\u001b[0m \u001b[0mKeyError\u001b[0m \u001b[0;32mas\u001b[0m \u001b[0merr\u001b[0m\u001b[0;34m:\u001b[0m\u001b[0;34m\u001b[0m\u001b[0;34m\u001b[0m\u001b[0m\n\u001b[0;32m-> 3631\u001b[0;31m                 \u001b[0;32mraise\u001b[0m \u001b[0mKeyError\u001b[0m\u001b[0;34m(\u001b[0m\u001b[0mkey\u001b[0m\u001b[0;34m)\u001b[0m \u001b[0;32mfrom\u001b[0m \u001b[0merr\u001b[0m\u001b[0;34m\u001b[0m\u001b[0;34m\u001b[0m\u001b[0m\n\u001b[0m\u001b[1;32m   3632\u001b[0m             \u001b[0;32mexcept\u001b[0m \u001b[0mTypeError\u001b[0m\u001b[0;34m:\u001b[0m\u001b[0;34m\u001b[0m\u001b[0;34m\u001b[0m\u001b[0m\n\u001b[1;32m   3633\u001b[0m                 \u001b[0;31m# If we have a listlike key, _check_indexing_error will raise\u001b[0m\u001b[0;34m\u001b[0m\u001b[0;34m\u001b[0m\u001b[0m\n",
            "\u001b[0;31mKeyError\u001b[0m: 'Transaction'"
          ]
        }
      ]
    },
    {
      "cell_type": "markdown",
      "metadata": {
        "id": "RC0XrOYe5fze"
      },
      "source": [
        "Hány különböző termék került eladásra?"
      ]
    },
    {
      "cell_type": "code",
      "metadata": {
        "id": "0mt5WZ7j5fzf"
      },
      "source": [],
      "execution_count": null,
      "outputs": []
    },
    {
      "cell_type": "markdown",
      "metadata": {
        "id": "bgOvQpY15fzi"
      },
      "source": [
        "Hány különböző termék került eladásra?"
      ]
    },
    {
      "cell_type": "code",
      "metadata": {
        "id": "L8nr-Qky5fzi"
      },
      "source": [],
      "execution_count": null,
      "outputs": []
    },
    {
      "cell_type": "markdown",
      "metadata": {
        "id": "zm8OEm8d5fzk"
      },
      "source": [
        "Melyik terméket hányszor adták el?"
      ]
    },
    {
      "cell_type": "code",
      "metadata": {
        "id": "3k1mDpWu5fzl"
      },
      "source": [],
      "execution_count": null,
      "outputs": []
    },
    {
      "cell_type": "markdown",
      "metadata": {
        "id": "X5Pxo4dl5fzn"
      },
      "source": [
        "Átlagban egy terméket hányszor adtak el?"
      ]
    },
    {
      "cell_type": "code",
      "metadata": {
        "id": "3YqAptbV5fzo"
      },
      "source": [],
      "execution_count": null,
      "outputs": []
    },
    {
      "cell_type": "markdown",
      "metadata": {
        "id": "Y8ne88hJ5fzq"
      },
      "source": [
        "Ábrázoljuk a termékeladások eloszlását (hisztogram)."
      ]
    },
    {
      "cell_type": "code",
      "metadata": {
        "id": "RL8Sm36p5fzq"
      },
      "source": [],
      "execution_count": null,
      "outputs": []
    },
    {
      "cell_type": "markdown",
      "metadata": {
        "id": "iA3Ldo3a5fzs"
      },
      "source": [
        "Az  apriori algoritmus bemenete egy  listákat tartalamazó lista. Alakítsuk át a dataframet \"list of lists\"-re."
      ]
    },
    {
      "cell_type": "code",
      "metadata": {
        "id": "otG-XziA5fzt"
      },
      "source": [
        "records = []  \n"
      ],
      "execution_count": null,
      "outputs": []
    },
    {
      "cell_type": "code",
      "metadata": {
        "id": "J75azeMK5fzw"
      },
      "source": [
        "print(records)"
      ],
      "execution_count": null,
      "outputs": []
    },
    {
      "cell_type": "markdown",
      "metadata": {
        "id": "rKFQdDVU5fzz"
      },
      "source": [
        "Válasszuk meg a `min_support`, `min_confidence`, `min_lift`, `min_length` paramétereket és számoljuk ki a gyakori  elemhalmazokat. "
      ]
    },
    {
      "cell_type": "code",
      "metadata": {
        "id": "iIKL6LvY5fz0"
      },
      "source": [],
      "execution_count": null,
      "outputs": []
    },
    {
      "cell_type": "markdown",
      "metadata": {
        "id": "_fD065ke5fz2"
      },
      "source": [
        "Hogyan változik az elemhalmazok száma a `min_support`, `min_confidence`, `min_lift`, `min_length` paraméterek változtatásával? "
      ]
    },
    {
      "cell_type": "code",
      "metadata": {
        "id": "ssGsl8F45fz2"
      },
      "source": [],
      "execution_count": null,
      "outputs": []
    }
  ]
}